{
 "cells": [
  {
   "cell_type": "code",
   "execution_count": 1,
   "id": "f2ed4023",
   "metadata": {},
   "outputs": [],
   "source": [
    "# I started by importing the necessary packages for me to scrape html off the internet.\n",
    "import requests\n",
    "import pandas as pd\n",
    "import lxml.html as lh"
   ]
  },
  {
   "cell_type": "code",
   "execution_count": 2,
   "id": "7255adb6",
   "metadata": {},
   "outputs": [
    {
     "data": {
      "text/plain": [
       "[1, 7, 7, 7, 7, 7, 7, 7, 7, 7]"
      ]
     },
     "execution_count": 2,
     "metadata": {},
     "output_type": "execute_result"
    }
   ],
   "source": [
    "# Then I scraped a HTML chart with the price of gold going back to 1969 and checked to make sure the width of the first 10 rows\n",
    "# was 7. Unfortunately, the title was scraped along with the chart, generating the \"1\" for row index 0.\n",
    "\n",
    "url1 = 'https://www.macrotrends.net/1333/historical-gold-prices-100-year-chart'\n",
    "gold_page = requests.get(url1)\n",
    "gold_doc = lh.fromstring(gold_page.content)\n",
    "tr_elements = gold_doc.xpath('//tr')\n",
    "[len(T) for T in tr_elements[:10]]"
   ]
  },
  {
   "cell_type": "code",
   "execution_count": 3,
   "id": "9294ce9e",
   "metadata": {},
   "outputs": [
    {
     "name": "stdout",
     "output_type": "stream",
     "text": [
      "1 Year\n",
      "2 AverageClosing Price\n",
      "3 Year Open\n",
      "4 Year High\n",
      "5 Year Low\n",
      "6 Year Close\n",
      "7 Annual% Change\n"
     ]
    }
   ],
   "source": [
    "# I then created an empty list for column names and iterated the headings into it. The title\n",
    "# for the table had unintentionally been imported, so I started at an index of 1 as to skip that row.\n",
    "\n",
    "col=[]\n",
    "i=0\n",
    "\n",
    "for t in tr_elements[1]:\n",
    "    i+=1\n",
    "    name=t.text_content()\n",
    "    print (i,name)\n",
    "    col.append((name,[]))"
   ]
  },
  {
   "cell_type": "code",
   "execution_count": 4,
   "id": "107ebc7b",
   "metadata": {},
   "outputs": [],
   "source": [
    "#Next I iterated the data into the columns.\n",
    "\n",
    "for j in range(1,len(tr_elements)):\n",
    "    T=tr_elements[j]\n",
    "    if len(T)!=7:\n",
    "        break\n",
    "    i=0\n",
    "    for t in T.iterchildren():\n",
    "        data=t.text_content()\n",
    "        if i>0:\n",
    "            try:\n",
    "                data=int(data)\n",
    "            except:\n",
    "                    pass\n",
    "        col[i][1].append(data)\n",
    "        i+=1"
   ]
  },
  {
   "cell_type": "code",
   "execution_count": 5,
   "id": "19f3de82",
   "metadata": {},
   "outputs": [
    {
     "data": {
      "text/plain": [
       "[54, 54, 54, 54, 54, 54, 54]"
      ]
     },
     "execution_count": 5,
     "metadata": {},
     "output_type": "execute_result"
    }
   ],
   "source": [
    "#Here I checked to make sure the total column length was correct.\n",
    "\n",
    "[len(C) for (title,C) in col]"
   ]
  },
  {
   "cell_type": "code",
   "execution_count": 6,
   "id": "51253d85",
   "metadata": {},
   "outputs": [
    {
     "data": {
      "text/html": [
       "<div>\n",
       "<style scoped>\n",
       "    .dataframe tbody tr th:only-of-type {\n",
       "        vertical-align: middle;\n",
       "    }\n",
       "\n",
       "    .dataframe tbody tr th {\n",
       "        vertical-align: top;\n",
       "    }\n",
       "\n",
       "    .dataframe thead th {\n",
       "        text-align: right;\n",
       "    }\n",
       "</style>\n",
       "<table border=\"1\" class=\"dataframe\">\n",
       "  <thead>\n",
       "    <tr style=\"text-align: right;\">\n",
       "      <th></th>\n",
       "      <th>Year</th>\n",
       "      <th>AverageClosing Price</th>\n",
       "      <th>Year Open</th>\n",
       "      <th>Year High</th>\n",
       "      <th>Year Low</th>\n",
       "      <th>Year Close</th>\n",
       "      <th>Annual% Change</th>\n",
       "    </tr>\n",
       "  </thead>\n",
       "  <tbody>\n",
       "    <tr>\n",
       "      <th>0</th>\n",
       "      <td>Year</td>\n",
       "      <td>AverageClosing Price</td>\n",
       "      <td>Year Open</td>\n",
       "      <td>Year High</td>\n",
       "      <td>Year Low</td>\n",
       "      <td>Year Close</td>\n",
       "      <td>Annual% Change</td>\n",
       "    </tr>\n",
       "    <tr>\n",
       "      <th>1</th>\n",
       "      <td>2021</td>\n",
       "      <td>$1,805.48</td>\n",
       "      <td>$1,946.60</td>\n",
       "      <td>$1,954.40</td>\n",
       "      <td>$1,678.00</td>\n",
       "      <td>$1,879.60</td>\n",
       "      <td>-0.82%</td>\n",
       "    </tr>\n",
       "    <tr>\n",
       "      <th>2</th>\n",
       "      <td>2020</td>\n",
       "      <td>$1,773.73</td>\n",
       "      <td>$1,520.55</td>\n",
       "      <td>$2,058.40</td>\n",
       "      <td>$1,472.35</td>\n",
       "      <td>$1,895.10</td>\n",
       "      <td>24.43%</td>\n",
       "    </tr>\n",
       "    <tr>\n",
       "      <th>3</th>\n",
       "      <td>2019</td>\n",
       "      <td>$1,393.34</td>\n",
       "      <td>$1,287.20</td>\n",
       "      <td>$1,542.60</td>\n",
       "      <td>$1,270.05</td>\n",
       "      <td>$1,523.00</td>\n",
       "      <td>18.83%</td>\n",
       "    </tr>\n",
       "    <tr>\n",
       "      <th>4</th>\n",
       "      <td>2018</td>\n",
       "      <td>$1,268.93</td>\n",
       "      <td>$1,312.80</td>\n",
       "      <td>$1,360.25</td>\n",
       "      <td>$1,176.70</td>\n",
       "      <td>$1,281.65</td>\n",
       "      <td>-1.15%</td>\n",
       "    </tr>\n",
       "  </tbody>\n",
       "</table>\n",
       "</div>"
      ],
      "text/plain": [
       "   Year  AverageClosing Price  Year Open  Year High   Year Low  Year Close  \\\n",
       "0  Year  AverageClosing Price  Year Open  Year High   Year Low  Year Close   \n",
       "1  2021             $1,805.48  $1,946.60  $1,954.40  $1,678.00   $1,879.60   \n",
       "2  2020             $1,773.73  $1,520.55  $2,058.40  $1,472.35   $1,895.10   \n",
       "3  2019             $1,393.34  $1,287.20  $1,542.60  $1,270.05   $1,523.00   \n",
       "4  2018             $1,268.93  $1,312.80  $1,360.25  $1,176.70   $1,281.65   \n",
       "\n",
       "   Annual% Change  \n",
       "0  Annual% Change  \n",
       "1          -0.82%  \n",
       "2          24.43%  \n",
       "3          18.83%  \n",
       "4          -1.15%  "
      ]
     },
     "execution_count": 6,
     "metadata": {},
     "output_type": "execute_result"
    }
   ],
   "source": [
    "# I created a dictionary and then used that to create a pandas DataFrame out of the scraped data.\n",
    "\n",
    "Dict_gold={title:column for (title,column) in col}\n",
    "gold_prices=pd.DataFrame(Dict_gold)\n",
    "gold_prices.head()"
   ]
  },
  {
   "cell_type": "code",
   "execution_count": 7,
   "id": "4167423a",
   "metadata": {},
   "outputs": [
    {
     "data": {
      "text/html": [
       "<div>\n",
       "<style scoped>\n",
       "    .dataframe tbody tr th:only-of-type {\n",
       "        vertical-align: middle;\n",
       "    }\n",
       "\n",
       "    .dataframe tbody tr th {\n",
       "        vertical-align: top;\n",
       "    }\n",
       "\n",
       "    .dataframe thead th {\n",
       "        text-align: right;\n",
       "    }\n",
       "</style>\n",
       "<table border=\"1\" class=\"dataframe\">\n",
       "  <thead>\n",
       "    <tr style=\"text-align: right;\">\n",
       "      <th></th>\n",
       "      <th>Year</th>\n",
       "      <th>AverageClosing Price</th>\n",
       "      <th>Year Open</th>\n",
       "      <th>Year High</th>\n",
       "      <th>Year Low</th>\n",
       "      <th>Year Close</th>\n",
       "      <th>Annual% Change</th>\n",
       "    </tr>\n",
       "  </thead>\n",
       "  <tbody>\n",
       "    <tr>\n",
       "      <th>1</th>\n",
       "      <td>2021</td>\n",
       "      <td>$1,805.48</td>\n",
       "      <td>$1,946.60</td>\n",
       "      <td>$1,954.40</td>\n",
       "      <td>$1,678.00</td>\n",
       "      <td>$1,879.60</td>\n",
       "      <td>-0.82%</td>\n",
       "    </tr>\n",
       "    <tr>\n",
       "      <th>2</th>\n",
       "      <td>2020</td>\n",
       "      <td>$1,773.73</td>\n",
       "      <td>$1,520.55</td>\n",
       "      <td>$2,058.40</td>\n",
       "      <td>$1,472.35</td>\n",
       "      <td>$1,895.10</td>\n",
       "      <td>24.43%</td>\n",
       "    </tr>\n",
       "    <tr>\n",
       "      <th>3</th>\n",
       "      <td>2019</td>\n",
       "      <td>$1,393.34</td>\n",
       "      <td>$1,287.20</td>\n",
       "      <td>$1,542.60</td>\n",
       "      <td>$1,270.05</td>\n",
       "      <td>$1,523.00</td>\n",
       "      <td>18.83%</td>\n",
       "    </tr>\n",
       "    <tr>\n",
       "      <th>4</th>\n",
       "      <td>2018</td>\n",
       "      <td>$1,268.93</td>\n",
       "      <td>$1,312.80</td>\n",
       "      <td>$1,360.25</td>\n",
       "      <td>$1,176.70</td>\n",
       "      <td>$1,281.65</td>\n",
       "      <td>-1.15%</td>\n",
       "    </tr>\n",
       "    <tr>\n",
       "      <th>5</th>\n",
       "      <td>2017</td>\n",
       "      <td>$1,260.39</td>\n",
       "      <td>$1,162.00</td>\n",
       "      <td>$1,351.20</td>\n",
       "      <td>$1,162.00</td>\n",
       "      <td>$1,296.50</td>\n",
       "      <td>12.57%</td>\n",
       "    </tr>\n",
       "  </tbody>\n",
       "</table>\n",
       "</div>"
      ],
      "text/plain": [
       "   Year AverageClosing Price  Year Open  Year High   Year Low Year Close  \\\n",
       "1  2021            $1,805.48  $1,946.60  $1,954.40  $1,678.00  $1,879.60   \n",
       "2  2020            $1,773.73  $1,520.55  $2,058.40  $1,472.35  $1,895.10   \n",
       "3  2019            $1,393.34  $1,287.20  $1,542.60  $1,270.05  $1,523.00   \n",
       "4  2018            $1,268.93  $1,312.80  $1,360.25  $1,176.70  $1,281.65   \n",
       "5  2017            $1,260.39  $1,162.00  $1,351.20  $1,162.00  $1,296.50   \n",
       "\n",
       "  Annual% Change  \n",
       "1         -0.82%  \n",
       "2         24.43%  \n",
       "3         18.83%  \n",
       "4         -1.15%  \n",
       "5         12.57%  "
      ]
     },
     "execution_count": 7,
     "metadata": {},
     "output_type": "execute_result"
    }
   ],
   "source": [
    "# The column names had filled in the first row of data, so I used .iloc to drop the row as to avoid any data-type issues.\n",
    "\n",
    "gold_prices = gold_prices.iloc[1:]\n",
    "gold_prices.head()"
   ]
  },
  {
   "cell_type": "code",
   "execution_count": 8,
   "id": "afab56d8",
   "metadata": {},
   "outputs": [
    {
     "data": {
      "text/plain": [
       "[1, 7, 7, 7, 7, 7, 7, 7, 7, 7]"
      ]
     },
     "execution_count": 8,
     "metadata": {},
     "output_type": "execute_result"
    }
   ],
   "source": [
    "# Then repeated the previous steps to scrape a HTML chart with the Dow Jones average's historical prices.\n",
    "\n",
    "url = 'https://www.macrotrends.net/1319/dow-jones-100-year-historical-chart'\n",
    "dow_page = requests.get(url)\n",
    "dow_doc = lh.fromstring(dow_page.content)\n",
    "dow_jones_tr_elements = dow_doc.xpath('//tr')\n",
    "[len(T) for T in dow_jones_tr_elements[:10]]"
   ]
  },
  {
   "cell_type": "code",
   "execution_count": 9,
   "id": "f4c583db",
   "metadata": {},
   "outputs": [
    {
     "name": "stdout",
     "output_type": "stream",
     "text": [
      "1 Year\n",
      "2 AverageClosing Price\n",
      "3 Year Open\n",
      "4 Year High\n",
      "5 Year Low\n",
      "6 Year Close\n",
      "7 Annual% Change\n"
     ]
    }
   ],
   "source": [
    "col=[]\n",
    "i=0\n",
    "\n",
    "for t in dow_jones_tr_elements[1]:\n",
    "    i+=1\n",
    "    name=t.text_content()\n",
    "    print (i,name)\n",
    "    col.append((name,[]))"
   ]
  },
  {
   "cell_type": "code",
   "execution_count": 10,
   "id": "aef1f79c",
   "metadata": {},
   "outputs": [
    {
     "data": {
      "text/plain": [
       "[108, 108, 108, 108, 108, 108, 108]"
      ]
     },
     "execution_count": 10,
     "metadata": {},
     "output_type": "execute_result"
    }
   ],
   "source": [
    "for j in range(1,len(dow_jones_tr_elements)):\n",
    "    T=dow_jones_tr_elements[j]\n",
    "    if len(T)!=7:\n",
    "        break\n",
    "    i=0\n",
    "    for t in T.iterchildren():\n",
    "        data=t.text_content()\n",
    "        if i>0:\n",
    "            try:\n",
    "                data=int(data)\n",
    "            except:\n",
    "                    pass\n",
    "        col[i][1].append(data)\n",
    "        i+=1\n",
    "[len(C) for (title,C) in col]"
   ]
  },
  {
   "cell_type": "code",
   "execution_count": 11,
   "id": "e6b9b8b8",
   "metadata": {},
   "outputs": [
    {
     "data": {
      "text/html": [
       "<div>\n",
       "<style scoped>\n",
       "    .dataframe tbody tr th:only-of-type {\n",
       "        vertical-align: middle;\n",
       "    }\n",
       "\n",
       "    .dataframe tbody tr th {\n",
       "        vertical-align: top;\n",
       "    }\n",
       "\n",
       "    .dataframe thead th {\n",
       "        text-align: right;\n",
       "    }\n",
       "</style>\n",
       "<table border=\"1\" class=\"dataframe\">\n",
       "  <thead>\n",
       "    <tr style=\"text-align: right;\">\n",
       "      <th></th>\n",
       "      <th>Year</th>\n",
       "      <th>AverageClosing Price</th>\n",
       "      <th>Year Open</th>\n",
       "      <th>Year High</th>\n",
       "      <th>Year Low</th>\n",
       "      <th>Year Close</th>\n",
       "      <th>Annual% Change</th>\n",
       "    </tr>\n",
       "  </thead>\n",
       "  <tbody>\n",
       "    <tr>\n",
       "      <th>0</th>\n",
       "      <td>Year</td>\n",
       "      <td>AverageClosing Price</td>\n",
       "      <td>Year Open</td>\n",
       "      <td>Year High</td>\n",
       "      <td>Year Low</td>\n",
       "      <td>Year Close</td>\n",
       "      <td>Annual% Change</td>\n",
       "    </tr>\n",
       "    <tr>\n",
       "      <th>1</th>\n",
       "      <td>2021</td>\n",
       "      <td>32,711.65</td>\n",
       "      <td>30,223.89</td>\n",
       "      <td>34,777.76</td>\n",
       "      <td>29,982.62</td>\n",
       "      <td>34,479.60</td>\n",
       "      <td>12.65%</td>\n",
       "    </tr>\n",
       "    <tr>\n",
       "      <th>2</th>\n",
       "      <td>2020</td>\n",
       "      <td>26,890.67</td>\n",
       "      <td>28,868.80</td>\n",
       "      <td>30,606.48</td>\n",
       "      <td>18,591.93</td>\n",
       "      <td>30,606.48</td>\n",
       "      <td>7.25%</td>\n",
       "    </tr>\n",
       "    <tr>\n",
       "      <th>3</th>\n",
       "      <td>2019</td>\n",
       "      <td>26,379.55</td>\n",
       "      <td>23,346.24</td>\n",
       "      <td>28,645.26</td>\n",
       "      <td>22,686.22</td>\n",
       "      <td>28,538.44</td>\n",
       "      <td>22.34%</td>\n",
       "    </tr>\n",
       "    <tr>\n",
       "      <th>4</th>\n",
       "      <td>2018</td>\n",
       "      <td>25,046.86</td>\n",
       "      <td>24,824.01</td>\n",
       "      <td>26,828.39</td>\n",
       "      <td>21,792.20</td>\n",
       "      <td>23,327.46</td>\n",
       "      <td>-5.63%</td>\n",
       "    </tr>\n",
       "  </tbody>\n",
       "</table>\n",
       "</div>"
      ],
      "text/plain": [
       "   Year  AverageClosing Price  Year Open  Year High   Year Low  Year Close  \\\n",
       "0  Year  AverageClosing Price  Year Open  Year High   Year Low  Year Close   \n",
       "1  2021             32,711.65  30,223.89  34,777.76  29,982.62   34,479.60   \n",
       "2  2020             26,890.67  28,868.80  30,606.48  18,591.93   30,606.48   \n",
       "3  2019             26,379.55  23,346.24  28,645.26  22,686.22   28,538.44   \n",
       "4  2018             25,046.86  24,824.01  26,828.39  21,792.20   23,327.46   \n",
       "\n",
       "   Annual% Change  \n",
       "0  Annual% Change  \n",
       "1          12.65%  \n",
       "2           7.25%  \n",
       "3          22.34%  \n",
       "4          -5.63%  "
      ]
     },
     "execution_count": 11,
     "metadata": {},
     "output_type": "execute_result"
    }
   ],
   "source": [
    "Dict_dow={title:column for (title,column) in col}\n",
    "dow_jones=pd.DataFrame(Dict_dow)\n",
    "dow_jones.head()"
   ]
  },
  {
   "cell_type": "code",
   "execution_count": 12,
   "id": "bec7e71b",
   "metadata": {},
   "outputs": [
    {
     "data": {
      "text/html": [
       "<div>\n",
       "<style scoped>\n",
       "    .dataframe tbody tr th:only-of-type {\n",
       "        vertical-align: middle;\n",
       "    }\n",
       "\n",
       "    .dataframe tbody tr th {\n",
       "        vertical-align: top;\n",
       "    }\n",
       "\n",
       "    .dataframe thead th {\n",
       "        text-align: right;\n",
       "    }\n",
       "</style>\n",
       "<table border=\"1\" class=\"dataframe\">\n",
       "  <thead>\n",
       "    <tr style=\"text-align: right;\">\n",
       "      <th></th>\n",
       "      <th>Year</th>\n",
       "      <th>AverageClosing Price</th>\n",
       "      <th>Year Open</th>\n",
       "      <th>Year High</th>\n",
       "      <th>Year Low</th>\n",
       "      <th>Year Close</th>\n",
       "      <th>Annual% Change</th>\n",
       "    </tr>\n",
       "  </thead>\n",
       "  <tbody>\n",
       "    <tr>\n",
       "      <th>1</th>\n",
       "      <td>2021</td>\n",
       "      <td>32,711.65</td>\n",
       "      <td>30,223.89</td>\n",
       "      <td>34,777.76</td>\n",
       "      <td>29,982.62</td>\n",
       "      <td>34,479.60</td>\n",
       "      <td>12.65%</td>\n",
       "    </tr>\n",
       "    <tr>\n",
       "      <th>2</th>\n",
       "      <td>2020</td>\n",
       "      <td>26,890.67</td>\n",
       "      <td>28,868.80</td>\n",
       "      <td>30,606.48</td>\n",
       "      <td>18,591.93</td>\n",
       "      <td>30,606.48</td>\n",
       "      <td>7.25%</td>\n",
       "    </tr>\n",
       "    <tr>\n",
       "      <th>3</th>\n",
       "      <td>2019</td>\n",
       "      <td>26,379.55</td>\n",
       "      <td>23,346.24</td>\n",
       "      <td>28,645.26</td>\n",
       "      <td>22,686.22</td>\n",
       "      <td>28,538.44</td>\n",
       "      <td>22.34%</td>\n",
       "    </tr>\n",
       "    <tr>\n",
       "      <th>4</th>\n",
       "      <td>2018</td>\n",
       "      <td>25,046.86</td>\n",
       "      <td>24,824.01</td>\n",
       "      <td>26,828.39</td>\n",
       "      <td>21,792.20</td>\n",
       "      <td>23,327.46</td>\n",
       "      <td>-5.63%</td>\n",
       "    </tr>\n",
       "    <tr>\n",
       "      <th>5</th>\n",
       "      <td>2017</td>\n",
       "      <td>21,750.20</td>\n",
       "      <td>19,881.76</td>\n",
       "      <td>24,837.51</td>\n",
       "      <td>19,732.40</td>\n",
       "      <td>24,719.22</td>\n",
       "      <td>25.08%</td>\n",
       "    </tr>\n",
       "  </tbody>\n",
       "</table>\n",
       "</div>"
      ],
      "text/plain": [
       "   Year AverageClosing Price  Year Open  Year High   Year Low Year Close  \\\n",
       "1  2021            32,711.65  30,223.89  34,777.76  29,982.62  34,479.60   \n",
       "2  2020            26,890.67  28,868.80  30,606.48  18,591.93  30,606.48   \n",
       "3  2019            26,379.55  23,346.24  28,645.26  22,686.22  28,538.44   \n",
       "4  2018            25,046.86  24,824.01  26,828.39  21,792.20  23,327.46   \n",
       "5  2017            21,750.20  19,881.76  24,837.51  19,732.40  24,719.22   \n",
       "\n",
       "  Annual% Change  \n",
       "1         12.65%  \n",
       "2          7.25%  \n",
       "3         22.34%  \n",
       "4         -5.63%  \n",
       "5         25.08%  "
      ]
     },
     "execution_count": 12,
     "metadata": {},
     "output_type": "execute_result"
    }
   ],
   "source": [
    "dow_jones = dow_jones.iloc[1:54]\n",
    "dow_jones.head()"
   ]
  },
  {
   "cell_type": "code",
   "execution_count": 34,
   "id": "e6cc6d9b",
   "metadata": {},
   "outputs": [],
   "source": [
    "#To avoid any issues with the imported data or lag during my analysis, I converted the finished DataFrames into CSV files, \n",
    "# which I then loaded into the second file in this repository, titled \"Web Scraping Analysis\".\n",
    "\n",
    "gold_prices.to_csv(r'C:\\Users\\jcfur\\Documents\\Web Scraping\\gold_prices.csv', index = False)\n",
    "dow_jones.to_csv(r'C:\\Users\\jcfur\\Documents\\Web Scraping\\dow_jones.csv', index = False)"
   ]
  },
  {
   "cell_type": "code",
   "execution_count": null,
   "id": "3ad0542a",
   "metadata": {},
   "outputs": [],
   "source": []
  }
 ],
 "metadata": {
  "kernelspec": {
   "display_name": "Python 3",
   "language": "python",
   "name": "python3"
  },
  "language_info": {
   "codemirror_mode": {
    "name": "ipython",
    "version": 3
   },
   "file_extension": ".py",
   "mimetype": "text/x-python",
   "name": "python",
   "nbconvert_exporter": "python",
   "pygments_lexer": "ipython3",
   "version": "3.8.8"
  }
 },
 "nbformat": 4,
 "nbformat_minor": 5
}
