{
 "cells": [
  {
   "cell_type": "code",
   "execution_count": 1,
   "id": "d01e30a1",
   "metadata": {},
   "outputs": [],
   "source": [
    "# I started by importing most of the packages I would need to complete my analysis.\n",
    "\n",
    "import pandas as pd\n",
    "import matplotlib.pyplot as plt\n",
    "import numpy as np\n",
    "import seaborn as sns"
   ]
  },
  {
   "cell_type": "code",
   "execution_count": 3,
   "id": "9d717c00",
   "metadata": {},
   "outputs": [
    {
     "name": "stdout",
     "output_type": "stream",
     "text": [
      "<class 'pandas.core.frame.DataFrame'>\n",
      "RangeIndex: 53 entries, 0 to 52\n",
      "Data columns (total 7 columns):\n",
      " #   Column                Non-Null Count  Dtype \n",
      "---  ------                --------------  ----- \n",
      " 0   Year                  53 non-null     int64 \n",
      " 1   AverageClosing Price  53 non-null     object\n",
      " 2   Year Open             53 non-null     object\n",
      " 3   Year High             53 non-null     object\n",
      " 4   Year Low              53 non-null     object\n",
      " 5   Year Close            53 non-null     object\n",
      " 6   Annual% Change        53 non-null     object\n",
      "dtypes: int64(1), object(6)\n",
      "memory usage: 3.0+ KB\n",
      "None\n"
     ]
    }
   ],
   "source": [
    "#Then I used pandas to import the datasets I had scraped from the web.\n",
    "\n",
    "dow_jones = pd.read_csv(r'C:\\Users\\jcfur\\Documents\\Web Scraping\\dow_jones.csv')\n",
    "print(dow_jones.info())    "
   ]
  },
  {
   "cell_type": "code",
   "execution_count": 5,
   "id": "8507e6f0",
   "metadata": {},
   "outputs": [
    {
     "name": "stdout",
     "output_type": "stream",
     "text": [
      "<class 'pandas.core.frame.DataFrame'>\n",
      "RangeIndex: 53 entries, 0 to 52\n",
      "Data columns (total 7 columns):\n",
      " #   Column                Non-Null Count  Dtype \n",
      "---  ------                --------------  ----- \n",
      " 0   Year                  53 non-null     int64 \n",
      " 1   AverageClosing Price  53 non-null     object\n",
      " 2   Year Open             53 non-null     object\n",
      " 3   Year High             53 non-null     object\n",
      " 4   Year Low              53 non-null     object\n",
      " 5   Year Close            53 non-null     object\n",
      " 6   Annual% Change        53 non-null     object\n",
      "dtypes: int64(1), object(6)\n",
      "memory usage: 3.0+ KB\n",
      "None\n"
     ]
    }
   ],
   "source": [
    "gold_prices = pd.read_csv(r'C:\\Users\\jcfur\\Documents\\Web Scraping\\gold_prices.csv')\n",
    "print(gold_prices.info())"
   ]
  },
  {
   "cell_type": "code",
   "execution_count": 16,
   "id": "de8c7f06",
   "metadata": {},
   "outputs": [
    {
     "name": "stdout",
     "output_type": "stream",
     "text": [
      "<class 'pandas.core.frame.DataFrame'>\n",
      "RangeIndex: 53 entries, 0 to 52\n",
      "Data columns (total 7 columns):\n",
      " #   Column                Non-Null Count  Dtype  \n",
      "---  ------                --------------  -----  \n",
      " 0   Year                  53 non-null     int64  \n",
      " 1   AverageClosing Price  53 non-null     float64\n",
      " 2   Year Open             53 non-null     object \n",
      " 3   Year High             53 non-null     object \n",
      " 4   Year Low              53 non-null     object \n",
      " 5   Year Close            53 non-null     object \n",
      " 6   Annual% Change        53 non-null     object \n",
      "dtypes: float64(1), int64(1), object(5)\n",
      "memory usage: 3.0+ KB\n",
      "None\n"
     ]
    }
   ],
   "source": [
    "# Recognizing that the misclassification of the data as objects due to the presence of dollar signs would make analysis \n",
    "# extremely difficult, I created a function titled \"fix_currency\" which eliminates the dollar signs and any commas by \n",
    "# iterating over them. I then applied this function to the average closing price in both datasets.\n",
    "\n",
    "def fix_currency(x):\n",
    "    if isinstance(x, str):\n",
    "        return(x.replace('$', '').replace(',', ''))\n",
    "    return(x)\n",
    "\n",
    "gold_prices['AverageClosing Price'] = gold_prices['AverageClosing Price'].apply(fix_currency).astype('float')\n",
    "\n",
    "print(gold_prices.info())"
   ]
  },
  {
   "cell_type": "code",
   "execution_count": 18,
   "id": "72314eb6",
   "metadata": {},
   "outputs": [
    {
     "name": "stdout",
     "output_type": "stream",
     "text": [
      "<class 'pandas.core.frame.DataFrame'>\n",
      "RangeIndex: 53 entries, 0 to 52\n",
      "Data columns (total 7 columns):\n",
      " #   Column                Non-Null Count  Dtype  \n",
      "---  ------                --------------  -----  \n",
      " 0   Year                  53 non-null     int64  \n",
      " 1   AverageClosing Price  53 non-null     float64\n",
      " 2   Year Open             53 non-null     object \n",
      " 3   Year High             53 non-null     object \n",
      " 4   Year Low              53 non-null     object \n",
      " 5   Year Close            53 non-null     object \n",
      " 6   Annual% Change        53 non-null     object \n",
      "dtypes: float64(1), int64(1), object(5)\n",
      "memory usage: 3.0+ KB\n",
      "None\n"
     ]
    }
   ],
   "source": [
    "dow_jones['AverageClosing Price'] = dow_jones['AverageClosing Price'].apply(fix_currency).astype('float')\n",
    "\n",
    "print(dow_jones.info())"
   ]
  },
  {
   "cell_type": "code",
   "execution_count": 22,
   "id": "65d8bc53",
   "metadata": {},
   "outputs": [
    {
     "name": "stdout",
     "output_type": "stream",
     "text": [
      "    Year  AverageClosing Price\n",
      "0   2021              32711.65\n",
      "1   2020              26890.67\n",
      "2   2019              26379.55\n",
      "3   2018              25046.86\n",
      "4   2017              21750.20\n",
      "5   2016              17927.11\n",
      "6   2015              17587.03\n",
      "7   2014              16777.69\n",
      "8   2013              15009.52\n",
      "9   2012              12966.44\n",
      "10  2011              11957.57\n",
      "11  2010              10668.58\n",
      "12  2009               8885.65\n",
      "13  2008              11244.06\n",
      "14  2007              13178.26\n",
      "15  2006              11409.78\n",
      "16  2005              10546.66\n",
      "17  2004              10315.51\n",
      "18  2003               9006.64\n",
      "19  2002               9214.85\n",
      "20  2001              10199.29\n",
      "21  2000              10729.38\n",
      "22  1999              10481.56\n",
      "23  1998               8630.76\n",
      "24  1997               7447.01\n",
      "25  1996               5739.63\n",
      "26  1995               4494.28\n",
      "27  1994               3794.22\n",
      "28  1993               3524.92\n",
      "29  1992               3284.08\n",
      "30  1991               2929.04\n",
      "31  1990               2679.45\n",
      "32  1989               2510.33\n",
      "33  1988               2061.48\n",
      "34  1987               2277.53\n",
      "35  1986               1793.10\n",
      "36  1985               1327.99\n",
      "37  1984               1178.59\n",
      "38  1983               1190.78\n",
      "39  1982                884.53\n",
      "40  1981                932.95\n",
      "41  1980                891.14\n",
      "42  1979                844.38\n",
      "43  1978                821.13\n",
      "44  1977                894.37\n",
      "45  1976                975.20\n",
      "46  1975                802.89\n",
      "47  1974                759.13\n",
      "48  1973                924.07\n",
      "49  1972                950.08\n",
      "50  1971                884.87\n",
      "51  1970                753.12\n",
      "52  1969                875.72\n"
     ]
    }
   ],
   "source": [
    "# Next, I removed the columns with data I did not intend to use.\n",
    "\n",
    "dow_jones = dow_jones.iloc[:, 0:2]\n",
    "print(dow_jones)"
   ]
  },
  {
   "cell_type": "code",
   "execution_count": 23,
   "id": "60ef36b8",
   "metadata": {},
   "outputs": [
    {
     "name": "stdout",
     "output_type": "stream",
     "text": [
      "    Year  AverageClosing Price\n",
      "0   2021               1805.48\n",
      "1   2020               1773.73\n",
      "2   2019               1393.34\n",
      "3   2018               1268.93\n",
      "4   2017               1260.39\n",
      "5   2016               1251.92\n",
      "6   2015               1158.86\n",
      "7   2014               1266.06\n",
      "8   2013               1409.51\n",
      "9   2012               1668.86\n",
      "10  2011               1573.16\n",
      "11  2010               1226.66\n",
      "12  2009                973.66\n",
      "13  2008                872.37\n",
      "14  2007                696.43\n",
      "15  2006                604.34\n",
      "16  2005                444.99\n",
      "17  2004                409.53\n",
      "18  2003                363.83\n",
      "19  2002                310.08\n",
      "20  2001                271.19\n",
      "21  2000                279.29\n",
      "22  1999                278.86\n",
      "23  1998                294.12\n",
      "24  1997                331.00\n",
      "25  1996                387.73\n",
      "26  1995                384.07\n",
      "27  1994                384.16\n",
      "28  1993                360.05\n",
      "29  1992                343.87\n",
      "30  1991                362.34\n",
      "31  1990                383.73\n",
      "32  1989                381.27\n",
      "33  1988                436.78\n",
      "34  1987                446.84\n",
      "35  1986                368.20\n",
      "36  1985                317.42\n",
      "37  1984                360.65\n",
      "38  1983                423.71\n",
      "39  1982                376.11\n",
      "40  1981                459.16\n",
      "41  1980                614.75\n",
      "42  1979                307.01\n",
      "43  1978                193.57\n",
      "44  1977                147.84\n",
      "45  1976                124.80\n",
      "46  1975                160.87\n",
      "47  1974                158.76\n",
      "48  1973                 97.12\n",
      "49  1972                 58.17\n",
      "50  1971                 40.80\n",
      "51  1970                 35.96\n",
      "52  1969                 41.10\n"
     ]
    }
   ],
   "source": [
    "gold_prices = gold_prices.iloc[:, 0:2]\n",
    "print(gold_prices)"
   ]
  },
  {
   "cell_type": "code",
   "execution_count": 76,
   "id": "2ac24559",
   "metadata": {},
   "outputs": [
    {
     "data": {
      "text/html": [
       "<div>\n",
       "<style scoped>\n",
       "    .dataframe tbody tr th:only-of-type {\n",
       "        vertical-align: middle;\n",
       "    }\n",
       "\n",
       "    .dataframe tbody tr th {\n",
       "        vertical-align: top;\n",
       "    }\n",
       "\n",
       "    .dataframe thead th {\n",
       "        text-align: right;\n",
       "    }\n",
       "</style>\n",
       "<table border=\"1\" class=\"dataframe\">\n",
       "  <thead>\n",
       "    <tr style=\"text-align: right;\">\n",
       "      <th></th>\n",
       "      <th>Year</th>\n",
       "      <th>AverageClosing Price_dow</th>\n",
       "      <th>AverageClosing Price_gold</th>\n",
       "    </tr>\n",
       "  </thead>\n",
       "  <tbody>\n",
       "    <tr>\n",
       "      <th>0</th>\n",
       "      <td>2021</td>\n",
       "      <td>32711.65</td>\n",
       "      <td>1805.48</td>\n",
       "    </tr>\n",
       "    <tr>\n",
       "      <th>1</th>\n",
       "      <td>2020</td>\n",
       "      <td>26890.67</td>\n",
       "      <td>1773.73</td>\n",
       "    </tr>\n",
       "    <tr>\n",
       "      <th>2</th>\n",
       "      <td>2019</td>\n",
       "      <td>26379.55</td>\n",
       "      <td>1393.34</td>\n",
       "    </tr>\n",
       "    <tr>\n",
       "      <th>3</th>\n",
       "      <td>2018</td>\n",
       "      <td>25046.86</td>\n",
       "      <td>1268.93</td>\n",
       "    </tr>\n",
       "    <tr>\n",
       "      <th>4</th>\n",
       "      <td>2017</td>\n",
       "      <td>21750.20</td>\n",
       "      <td>1260.39</td>\n",
       "    </tr>\n",
       "  </tbody>\n",
       "</table>\n",
       "</div>"
      ],
      "text/plain": [
       "   Year  AverageClosing Price_dow  AverageClosing Price_gold\n",
       "0  2021                  32711.65                    1805.48\n",
       "1  2020                  26890.67                    1773.73\n",
       "2  2019                  26379.55                    1393.34\n",
       "3  2018                  25046.86                    1268.93\n",
       "4  2017                  21750.20                    1260.39"
      ]
     },
     "execution_count": 76,
     "metadata": {},
     "output_type": "execute_result"
    }
   ],
   "source": [
    "# I performed an inner join on the \"Year\" column in order to simplify data visualizations later on.\n",
    "\n",
    "dow_and_gold_unmodified = dow_jones.merge(gold_prices, on='Year', suffixes=('_dow', '_gold'))\n",
    "dow_and_gold_unmodified.head()"
   ]
  },
  {
   "cell_type": "code",
   "execution_count": 75,
   "id": "4bca52d1",
   "metadata": {
    "scrolled": true
   },
   "outputs": [
    {
     "data": {
      "text/html": [
       "<div>\n",
       "<style scoped>\n",
       "    .dataframe tbody tr th:only-of-type {\n",
       "        vertical-align: middle;\n",
       "    }\n",
       "\n",
       "    .dataframe tbody tr th {\n",
       "        vertical-align: top;\n",
       "    }\n",
       "\n",
       "    .dataframe thead th {\n",
       "        text-align: right;\n",
       "    }\n",
       "</style>\n",
       "<table border=\"1\" class=\"dataframe\">\n",
       "  <thead>\n",
       "    <tr style=\"text-align: right;\">\n",
       "      <th></th>\n",
       "      <th>Year</th>\n",
       "      <th>amount</th>\n",
       "    </tr>\n",
       "  </thead>\n",
       "  <tbody>\n",
       "    <tr>\n",
       "      <th>0</th>\n",
       "      <td>1800</td>\n",
       "      <td>1.00</td>\n",
       "    </tr>\n",
       "    <tr>\n",
       "      <th>1</th>\n",
       "      <td>1801</td>\n",
       "      <td>1.01</td>\n",
       "    </tr>\n",
       "    <tr>\n",
       "      <th>2</th>\n",
       "      <td>1802</td>\n",
       "      <td>0.85</td>\n",
       "    </tr>\n",
       "    <tr>\n",
       "      <th>3</th>\n",
       "      <td>1803</td>\n",
       "      <td>0.90</td>\n",
       "    </tr>\n",
       "    <tr>\n",
       "      <th>4</th>\n",
       "      <td>1804</td>\n",
       "      <td>0.94</td>\n",
       "    </tr>\n",
       "  </tbody>\n",
       "</table>\n",
       "</div>"
      ],
      "text/plain": [
       "   Year  amount\n",
       "0  1800    1.00\n",
       "1  1801    1.01\n",
       "2  1802    0.85\n",
       "3  1803    0.90\n",
       "4  1804    0.94"
      ]
     },
     "execution_count": 75,
     "metadata": {},
     "output_type": "execute_result"
    }
   ],
   "source": [
    "# I imported a csv with annual conversion values to 1800 USD from https://www.officialdata.org/us/inflation/1800?amount=1#citation\n",
    "# so that I could modify the datasets to be in-line with modern-day inflation rates.\n",
    "\n",
    "inflation = pd.read_csv(r'C:\\Users\\jcfur\\Documents\\Web Scraping\\inflation_data.csv')\n",
    "inflation.head()"
   ]
  },
  {
   "cell_type": "code",
   "execution_count": 88,
   "id": "6e5297d3",
   "metadata": {
    "scrolled": true
   },
   "outputs": [
    {
     "name": "stdout",
     "output_type": "stream",
     "text": [
      "<class 'pandas.core.frame.DataFrame'>\n",
      "Int64Index: 53 entries, 0 to 52\n",
      "Data columns (total 4 columns):\n",
      " #   Column                     Non-Null Count  Dtype  \n",
      "---  ------                     --------------  -----  \n",
      " 0   Year                       53 non-null     int64  \n",
      " 1   AverageClosing Price_dow   53 non-null     float64\n",
      " 2   AverageClosing Price_gold  53 non-null     float64\n",
      " 3   amount                     53 non-null     float64\n",
      "dtypes: float64(3), int64(1)\n",
      "memory usage: 2.1 KB\n"
     ]
    },
    {
     "data": {
      "text/html": [
       "<div>\n",
       "<style scoped>\n",
       "    .dataframe tbody tr th:only-of-type {\n",
       "        vertical-align: middle;\n",
       "    }\n",
       "\n",
       "    .dataframe tbody tr th {\n",
       "        vertical-align: top;\n",
       "    }\n",
       "\n",
       "    .dataframe thead th {\n",
       "        text-align: right;\n",
       "    }\n",
       "</style>\n",
       "<table border=\"1\" class=\"dataframe\">\n",
       "  <thead>\n",
       "    <tr style=\"text-align: right;\">\n",
       "      <th></th>\n",
       "      <th>Year</th>\n",
       "      <th>AverageClosing Price_dow</th>\n",
       "      <th>AverageClosing Price_gold</th>\n",
       "      <th>amount</th>\n",
       "    </tr>\n",
       "  </thead>\n",
       "  <tbody>\n",
       "    <tr>\n",
       "      <th>0</th>\n",
       "      <td>2021</td>\n",
       "      <td>32711.65</td>\n",
       "      <td>1805.48</td>\n",
       "      <td>21.36</td>\n",
       "    </tr>\n",
       "    <tr>\n",
       "      <th>1</th>\n",
       "      <td>2020</td>\n",
       "      <td>26890.67</td>\n",
       "      <td>1773.73</td>\n",
       "      <td>20.54</td>\n",
       "    </tr>\n",
       "    <tr>\n",
       "      <th>2</th>\n",
       "      <td>2019</td>\n",
       "      <td>26379.55</td>\n",
       "      <td>1393.34</td>\n",
       "      <td>20.29</td>\n",
       "    </tr>\n",
       "    <tr>\n",
       "      <th>3</th>\n",
       "      <td>2018</td>\n",
       "      <td>25046.86</td>\n",
       "      <td>1268.93</td>\n",
       "      <td>19.94</td>\n",
       "    </tr>\n",
       "    <tr>\n",
       "      <th>4</th>\n",
       "      <td>2017</td>\n",
       "      <td>21750.20</td>\n",
       "      <td>1260.39</td>\n",
       "      <td>19.45</td>\n",
       "    </tr>\n",
       "  </tbody>\n",
       "</table>\n",
       "</div>"
      ],
      "text/plain": [
       "   Year  AverageClosing Price_dow  AverageClosing Price_gold  amount\n",
       "0  2021                  32711.65                    1805.48   21.36\n",
       "1  2020                  26890.67                    1773.73   20.54\n",
       "2  2019                  26379.55                    1393.34   20.29\n",
       "3  2018                  25046.86                    1268.93   19.94\n",
       "4  2017                  21750.20                    1260.39   19.45"
      ]
     },
     "execution_count": 88,
     "metadata": {},
     "output_type": "execute_result"
    }
   ],
   "source": [
    "# Then I conducted another inner join to merge the inflation rate column, listed as \"amount\", with the rest of the DataFrame.\n",
    "\n",
    "dow_and_gold = dow_and_gold_unmodified.merge(inflation, on='Year')\n",
    "dow_and_gold.info()\n",
    "dow_and_gold.head()"
   ]
  },
  {
   "cell_type": "code",
   "execution_count": 89,
   "id": "ee9c8f24",
   "metadata": {},
   "outputs": [
    {
     "data": {
      "text/html": [
       "<div>\n",
       "<style scoped>\n",
       "    .dataframe tbody tr th:only-of-type {\n",
       "        vertical-align: middle;\n",
       "    }\n",
       "\n",
       "    .dataframe tbody tr th {\n",
       "        vertical-align: top;\n",
       "    }\n",
       "\n",
       "    .dataframe thead th {\n",
       "        text-align: right;\n",
       "    }\n",
       "</style>\n",
       "<table border=\"1\" class=\"dataframe\">\n",
       "  <thead>\n",
       "    <tr style=\"text-align: right;\">\n",
       "      <th></th>\n",
       "      <th>Year</th>\n",
       "      <th>AverageClosing Price_dow</th>\n",
       "      <th>AverageClosing Price_gold</th>\n",
       "      <th>amount</th>\n",
       "      <th>2021_dow</th>\n",
       "    </tr>\n",
       "  </thead>\n",
       "  <tbody>\n",
       "    <tr>\n",
       "      <th>0</th>\n",
       "      <td>2021</td>\n",
       "      <td>32711.65</td>\n",
       "      <td>1805.48</td>\n",
       "      <td>21.36</td>\n",
       "      <td>32711.650000</td>\n",
       "    </tr>\n",
       "    <tr>\n",
       "      <th>1</th>\n",
       "      <td>2020</td>\n",
       "      <td>26890.67</td>\n",
       "      <td>1773.73</td>\n",
       "      <td>20.54</td>\n",
       "      <td>27964.202103</td>\n",
       "    </tr>\n",
       "    <tr>\n",
       "      <th>2</th>\n",
       "      <td>2019</td>\n",
       "      <td>26379.55</td>\n",
       "      <td>1393.34</td>\n",
       "      <td>20.29</td>\n",
       "      <td>27770.684475</td>\n",
       "    </tr>\n",
       "    <tr>\n",
       "      <th>3</th>\n",
       "      <td>2018</td>\n",
       "      <td>25046.86</td>\n",
       "      <td>1268.93</td>\n",
       "      <td>19.94</td>\n",
       "      <td>26830.538094</td>\n",
       "    </tr>\n",
       "    <tr>\n",
       "      <th>4</th>\n",
       "      <td>2017</td>\n",
       "      <td>21750.20</td>\n",
       "      <td>1260.39</td>\n",
       "      <td>19.45</td>\n",
       "      <td>23886.080823</td>\n",
       "    </tr>\n",
       "  </tbody>\n",
       "</table>\n",
       "</div>"
      ],
      "text/plain": [
       "   Year  AverageClosing Price_dow  AverageClosing Price_gold  amount  \\\n",
       "0  2021                  32711.65                    1805.48   21.36   \n",
       "1  2020                  26890.67                    1773.73   20.54   \n",
       "2  2019                  26379.55                    1393.34   20.29   \n",
       "3  2018                  25046.86                    1268.93   19.94   \n",
       "4  2017                  21750.20                    1260.39   19.45   \n",
       "\n",
       "       2021_dow  \n",
       "0  32711.650000  \n",
       "1  27964.202103  \n",
       "2  27770.684475  \n",
       "3  26830.538094  \n",
       "4  23886.080823  "
      ]
     },
     "execution_count": 89,
     "metadata": {},
     "output_type": "execute_result"
    }
   ],
   "source": [
    "# To convert all the values to 2021 USD, I first divided the Dow Jones price by the conversion rate to 1800 USD. Then I\n",
    "# multiplied the output by 21.36, which was the conversion rate of 1800 USD to 2021 USD according to the table. I saved the\n",
    "# resulting column as \"2021_dow\".\n",
    "\n",
    "dow_and_gold['2021_dow'] = (dow_and_gold['AverageClosing Price_dow'] / dow_and_gold['amount']) * 21.36\n",
    "dow_and_gold.head()"
   ]
  },
  {
   "cell_type": "code",
   "execution_count": 90,
   "id": "eeefb49e",
   "metadata": {},
   "outputs": [
    {
     "data": {
      "text/html": [
       "<div>\n",
       "<style scoped>\n",
       "    .dataframe tbody tr th:only-of-type {\n",
       "        vertical-align: middle;\n",
       "    }\n",
       "\n",
       "    .dataframe tbody tr th {\n",
       "        vertical-align: top;\n",
       "    }\n",
       "\n",
       "    .dataframe thead th {\n",
       "        text-align: right;\n",
       "    }\n",
       "</style>\n",
       "<table border=\"1\" class=\"dataframe\">\n",
       "  <thead>\n",
       "    <tr style=\"text-align: right;\">\n",
       "      <th></th>\n",
       "      <th>Year</th>\n",
       "      <th>AverageClosing Price_dow</th>\n",
       "      <th>AverageClosing Price_gold</th>\n",
       "      <th>amount</th>\n",
       "      <th>2021_dow</th>\n",
       "      <th>2021_gold</th>\n",
       "    </tr>\n",
       "  </thead>\n",
       "  <tbody>\n",
       "    <tr>\n",
       "      <th>0</th>\n",
       "      <td>2021</td>\n",
       "      <td>32711.65</td>\n",
       "      <td>1805.48</td>\n",
       "      <td>21.36</td>\n",
       "      <td>32711.650000</td>\n",
       "      <td>1805.480000</td>\n",
       "    </tr>\n",
       "    <tr>\n",
       "      <th>1</th>\n",
       "      <td>2020</td>\n",
       "      <td>26890.67</td>\n",
       "      <td>1773.73</td>\n",
       "      <td>20.54</td>\n",
       "      <td>27964.202103</td>\n",
       "      <td>1844.541032</td>\n",
       "    </tr>\n",
       "    <tr>\n",
       "      <th>2</th>\n",
       "      <td>2019</td>\n",
       "      <td>26379.55</td>\n",
       "      <td>1393.34</td>\n",
       "      <td>20.29</td>\n",
       "      <td>27770.684475</td>\n",
       "      <td>1466.818255</td>\n",
       "    </tr>\n",
       "    <tr>\n",
       "      <th>3</th>\n",
       "      <td>2018</td>\n",
       "      <td>25046.86</td>\n",
       "      <td>1268.93</td>\n",
       "      <td>19.94</td>\n",
       "      <td>26830.538094</td>\n",
       "      <td>1359.295125</td>\n",
       "    </tr>\n",
       "    <tr>\n",
       "      <th>4</th>\n",
       "      <td>2017</td>\n",
       "      <td>21750.20</td>\n",
       "      <td>1260.39</td>\n",
       "      <td>19.45</td>\n",
       "      <td>23886.080823</td>\n",
       "      <td>1384.160946</td>\n",
       "    </tr>\n",
       "  </tbody>\n",
       "</table>\n",
       "</div>"
      ],
      "text/plain": [
       "   Year  AverageClosing Price_dow  AverageClosing Price_gold  amount  \\\n",
       "0  2021                  32711.65                    1805.48   21.36   \n",
       "1  2020                  26890.67                    1773.73   20.54   \n",
       "2  2019                  26379.55                    1393.34   20.29   \n",
       "3  2018                  25046.86                    1268.93   19.94   \n",
       "4  2017                  21750.20                    1260.39   19.45   \n",
       "\n",
       "       2021_dow    2021_gold  \n",
       "0  32711.650000  1805.480000  \n",
       "1  27964.202103  1844.541032  \n",
       "2  27770.684475  1466.818255  \n",
       "3  26830.538094  1359.295125  \n",
       "4  23886.080823  1384.160946  "
      ]
     },
     "execution_count": 90,
     "metadata": {},
     "output_type": "execute_result"
    }
   ],
   "source": [
    "# I then repeated the previous step for gold prices, saving the resulting column as \"2021_gold\".\n",
    "\n",
    "dow_and_gold['2021_gold'] = (dow_and_gold_interim['AverageClosing Price_gold'] / dow_and_gold['amount']) * 21.36\n",
    "dow_and_gold.head()"
   ]
  },
  {
   "cell_type": "code",
   "execution_count": 92,
   "id": "c53fe7f5",
   "metadata": {},
   "outputs": [
    {
     "data": {
      "text/plain": [
       "Text(0.5, 1.0, 'Gold Prices Compared to the Dow Jones Industrial Average in 2021 USD')"
      ]
     },
     "execution_count": 92,
     "metadata": {},
     "output_type": "execute_result"
    },
    {
     "data": {
      "image/png": "[encoded data removed]",
      "text/plain": [
       "<Figure size 432x288 with 2 Axes>"
      ]
     },
     "metadata": {},
     "output_type": "display_data"
    }
   ],
   "source": [
    "# To begin my analysis now that the data was prepared, I created a line graph with the data from both the \"2021_dow\" and\n",
    "# \"2021_gold\" columns displayed. I also used multiple axis in order to assist in seeing any relationship, as the price of\n",
    "# the Dow is much more than the price of gold per ounce. Unfortunately, this graph is not very conclusive.\n",
    "\n",
    "fig, ax = plt.subplots()\n",
    "ax.plot(dow_and_gold['Year'], dow_and_gold['2021_dow'], color='b', label='Dow Jones Stock Index')\n",
    "ax2 = ax.twinx()\n",
    "ax2.plot(dow_and_gold['Year'], dow_and_gold['2021_gold'], color='r', label='Gold Prices')\n",
    "ax.set_ylabel('Dow Jones Industrial Avg', color='b')\n",
    "ax2.set_ylabel('Price of Gold per Ounce', color='r')\n",
    "ax.set_xlabel('Year')\n",
    "plt.style.use('ggplot')\n",
    "plt.title('Gold Prices Compared to the Dow Jones Industrial Average in 2021 USD')"
   ]
  },
  {
   "cell_type": "code",
   "execution_count": 93,
   "id": "dc5ccfd8",
   "metadata": {},
   "outputs": [
    {
     "name": "stdout",
     "output_type": "stream",
     "text": [
      "0.41815983627044084\n"
     ]
    }
   ],
   "source": [
    "# I conducted a test to get the Pearson’s correlation coefficient of the \"2021_dow\" and \"2021_gold\" columns. This had an\n",
    "# unexpected positive result.\n",
    "\n",
    "from scipy.stats import pearsonr\n",
    "corr, _ = pearsonr(dow_and_gold['2021_dow'], dow_and_gold['2021_gold'])\n",
    "print(corr)"
   ]
  },
  {
   "cell_type": "code",
   "execution_count": 102,
   "id": "f48c7e99",
   "metadata": {},
   "outputs": [
    {
     "data": {
      "text/html": [
       "<div>\n",
       "<style scoped>\n",
       "    .dataframe tbody tr th:only-of-type {\n",
       "        vertical-align: middle;\n",
       "    }\n",
       "\n",
       "    .dataframe tbody tr th {\n",
       "        vertical-align: top;\n",
       "    }\n",
       "\n",
       "    .dataframe thead th {\n",
       "        text-align: right;\n",
       "    }\n",
       "</style>\n",
       "<table border=\"1\" class=\"dataframe\">\n",
       "  <thead>\n",
       "    <tr style=\"text-align: right;\">\n",
       "      <th></th>\n",
       "      <th>Year</th>\n",
       "      <th>AverageClosing Price_dow</th>\n",
       "      <th>AverageClosing Price_gold</th>\n",
       "      <th>amount</th>\n",
       "      <th>2021_dow</th>\n",
       "      <th>2021_gold</th>\n",
       "    </tr>\n",
       "  </thead>\n",
       "  <tbody>\n",
       "    <tr>\n",
       "      <th>0</th>\n",
       "      <td>2021</td>\n",
       "      <td>32711.65</td>\n",
       "      <td>1805.48</td>\n",
       "      <td>21.36</td>\n",
       "      <td>32711.650000</td>\n",
       "      <td>1805.480000</td>\n",
       "    </tr>\n",
       "    <tr>\n",
       "      <th>1</th>\n",
       "      <td>2020</td>\n",
       "      <td>26890.67</td>\n",
       "      <td>1773.73</td>\n",
       "      <td>20.54</td>\n",
       "      <td>27964.202103</td>\n",
       "      <td>1844.541032</td>\n",
       "    </tr>\n",
       "    <tr>\n",
       "      <th>2</th>\n",
       "      <td>2019</td>\n",
       "      <td>26379.55</td>\n",
       "      <td>1393.34</td>\n",
       "      <td>20.29</td>\n",
       "      <td>27770.684475</td>\n",
       "      <td>1466.818255</td>\n",
       "    </tr>\n",
       "    <tr>\n",
       "      <th>3</th>\n",
       "      <td>2018</td>\n",
       "      <td>25046.86</td>\n",
       "      <td>1268.93</td>\n",
       "      <td>19.94</td>\n",
       "      <td>26830.538094</td>\n",
       "      <td>1359.295125</td>\n",
       "    </tr>\n",
       "    <tr>\n",
       "      <th>4</th>\n",
       "      <td>2017</td>\n",
       "      <td>21750.20</td>\n",
       "      <td>1260.39</td>\n",
       "      <td>19.45</td>\n",
       "      <td>23886.080823</td>\n",
       "      <td>1384.160946</td>\n",
       "    </tr>\n",
       "  </tbody>\n",
       "</table>\n",
       "</div>"
      ],
      "text/plain": [
       "   Year  AverageClosing Price_dow  AverageClosing Price_gold  amount  \\\n",
       "0  2021                  32711.65                    1805.48   21.36   \n",
       "1  2020                  26890.67                    1773.73   20.54   \n",
       "2  2019                  26379.55                    1393.34   20.29   \n",
       "3  2018                  25046.86                    1268.93   19.94   \n",
       "4  2017                  21750.20                    1260.39   19.45   \n",
       "\n",
       "       2021_dow    2021_gold  \n",
       "0  32711.650000  1805.480000  \n",
       "1  27964.202103  1844.541032  \n",
       "2  27770.684475  1466.818255  \n",
       "3  26830.538094  1359.295125  \n",
       "4  23886.080823  1384.160946  "
      ]
     },
     "execution_count": 102,
     "metadata": {},
     "output_type": "execute_result"
    }
   ],
   "source": [
    "# Because of the unexpected positive result during the Pearson’s correlation coefficient test, I decided to break the data\n",
    "# down by decade to conduct a more detailed analysis, but kept the 21st century together as, based on the line chart above,\n",
    "# the data appeared to not fluctuate much during those two decades.\n",
    "\n",
    "twenty_first=dow_and_gold.iloc[0:22]\n",
    "twenty_first.head()"
   ]
  },
  {
   "cell_type": "code",
   "execution_count": 105,
   "id": "c160da6d",
   "metadata": {},
   "outputs": [
    {
     "data": {
      "text/html": [
       "<div>\n",
       "<style scoped>\n",
       "    .dataframe tbody tr th:only-of-type {\n",
       "        vertical-align: middle;\n",
       "    }\n",
       "\n",
       "    .dataframe tbody tr th {\n",
       "        vertical-align: top;\n",
       "    }\n",
       "\n",
       "    .dataframe thead th {\n",
       "        text-align: right;\n",
       "    }\n",
       "</style>\n",
       "<table border=\"1\" class=\"dataframe\">\n",
       "  <thead>\n",
       "    <tr style=\"text-align: right;\">\n",
       "      <th></th>\n",
       "      <th>Year</th>\n",
       "      <th>AverageClosing Price_dow</th>\n",
       "      <th>AverageClosing Price_gold</th>\n",
       "      <th>amount</th>\n",
       "      <th>2021_dow</th>\n",
       "      <th>2021_gold</th>\n",
       "    </tr>\n",
       "  </thead>\n",
       "  <tbody>\n",
       "    <tr>\n",
       "      <th>22</th>\n",
       "      <td>1999</td>\n",
       "      <td>10481.56</td>\n",
       "      <td>278.86</td>\n",
       "      <td>13.22</td>\n",
       "      <td>16935.410106</td>\n",
       "      <td>450.563510</td>\n",
       "    </tr>\n",
       "    <tr>\n",
       "      <th>23</th>\n",
       "      <td>1998</td>\n",
       "      <td>8630.76</td>\n",
       "      <td>294.12</td>\n",
       "      <td>12.94</td>\n",
       "      <td>14246.756847</td>\n",
       "      <td>485.502566</td>\n",
       "    </tr>\n",
       "    <tr>\n",
       "      <th>24</th>\n",
       "      <td>1997</td>\n",
       "      <td>7447.01</td>\n",
       "      <td>331.00</td>\n",
       "      <td>12.74</td>\n",
       "      <td>12485.724772</td>\n",
       "      <td>554.957614</td>\n",
       "    </tr>\n",
       "    <tr>\n",
       "      <th>25</th>\n",
       "      <td>1996</td>\n",
       "      <td>5739.63</td>\n",
       "      <td>387.73</td>\n",
       "      <td>12.45</td>\n",
       "      <td>9847.268819</td>\n",
       "      <td>665.213880</td>\n",
       "    </tr>\n",
       "    <tr>\n",
       "      <th>26</th>\n",
       "      <td>1995</td>\n",
       "      <td>4494.28</td>\n",
       "      <td>384.07</td>\n",
       "      <td>12.10</td>\n",
       "      <td>7933.704198</td>\n",
       "      <td>677.994645</td>\n",
       "    </tr>\n",
       "  </tbody>\n",
       "</table>\n",
       "</div>"
      ],
      "text/plain": [
       "    Year  AverageClosing Price_dow  AverageClosing Price_gold  amount  \\\n",
       "22  1999                  10481.56                     278.86   13.22   \n",
       "23  1998                   8630.76                     294.12   12.94   \n",
       "24  1997                   7447.01                     331.00   12.74   \n",
       "25  1996                   5739.63                     387.73   12.45   \n",
       "26  1995                   4494.28                     384.07   12.10   \n",
       "\n",
       "        2021_dow   2021_gold  \n",
       "22  16935.410106  450.563510  \n",
       "23  14246.756847  485.502566  \n",
       "24  12485.724772  554.957614  \n",
       "25   9847.268819  665.213880  \n",
       "26   7933.704198  677.994645  "
      ]
     },
     "execution_count": 105,
     "metadata": {},
     "output_type": "execute_result"
    }
   ],
   "source": [
    "nineties=dow_and_gold.iloc[22:32]\n",
    "nineties.head()"
   ]
  },
  {
   "cell_type": "code",
   "execution_count": 106,
   "id": "181bd2ad",
   "metadata": {},
   "outputs": [
    {
     "data": {
      "text/html": [
       "<div>\n",
       "<style scoped>\n",
       "    .dataframe tbody tr th:only-of-type {\n",
       "        vertical-align: middle;\n",
       "    }\n",
       "\n",
       "    .dataframe tbody tr th {\n",
       "        vertical-align: top;\n",
       "    }\n",
       "\n",
       "    .dataframe thead th {\n",
       "        text-align: right;\n",
       "    }\n",
       "</style>\n",
       "<table border=\"1\" class=\"dataframe\">\n",
       "  <thead>\n",
       "    <tr style=\"text-align: right;\">\n",
       "      <th></th>\n",
       "      <th>Year</th>\n",
       "      <th>AverageClosing Price_dow</th>\n",
       "      <th>AverageClosing Price_gold</th>\n",
       "      <th>amount</th>\n",
       "      <th>2021_dow</th>\n",
       "      <th>2021_gold</th>\n",
       "    </tr>\n",
       "  </thead>\n",
       "  <tbody>\n",
       "    <tr>\n",
       "      <th>32</th>\n",
       "      <td>1989</td>\n",
       "      <td>2510.33</td>\n",
       "      <td>381.27</td>\n",
       "      <td>9.84</td>\n",
       "      <td>5449.252927</td>\n",
       "      <td>827.634878</td>\n",
       "    </tr>\n",
       "    <tr>\n",
       "      <th>33</th>\n",
       "      <td>1988</td>\n",
       "      <td>2061.48</td>\n",
       "      <td>436.78</td>\n",
       "      <td>9.39</td>\n",
       "      <td>4689.373035</td>\n",
       "      <td>993.569840</td>\n",
       "    </tr>\n",
       "    <tr>\n",
       "      <th>34</th>\n",
       "      <td>1987</td>\n",
       "      <td>2277.53</td>\n",
       "      <td>446.84</td>\n",
       "      <td>9.02</td>\n",
       "      <td>5393.352639</td>\n",
       "      <td>1058.148825</td>\n",
       "    </tr>\n",
       "    <tr>\n",
       "      <th>35</th>\n",
       "      <td>1986</td>\n",
       "      <td>1793.10</td>\n",
       "      <td>368.20</td>\n",
       "      <td>8.70</td>\n",
       "      <td>4402.369655</td>\n",
       "      <td>903.994483</td>\n",
       "    </tr>\n",
       "    <tr>\n",
       "      <th>36</th>\n",
       "      <td>1985</td>\n",
       "      <td>1327.99</td>\n",
       "      <td>317.42</td>\n",
       "      <td>8.54</td>\n",
       "      <td>3321.530023</td>\n",
       "      <td>793.921686</td>\n",
       "    </tr>\n",
       "  </tbody>\n",
       "</table>\n",
       "</div>"
      ],
      "text/plain": [
       "    Year  AverageClosing Price_dow  AverageClosing Price_gold  amount  \\\n",
       "32  1989                   2510.33                     381.27    9.84   \n",
       "33  1988                   2061.48                     436.78    9.39   \n",
       "34  1987                   2277.53                     446.84    9.02   \n",
       "35  1986                   1793.10                     368.20    8.70   \n",
       "36  1985                   1327.99                     317.42    8.54   \n",
       "\n",
       "       2021_dow    2021_gold  \n",
       "32  5449.252927   827.634878  \n",
       "33  4689.373035   993.569840  \n",
       "34  5393.352639  1058.148825  \n",
       "35  4402.369655   903.994483  \n",
       "36  3321.530023   793.921686  "
      ]
     },
     "execution_count": 106,
     "metadata": {},
     "output_type": "execute_result"
    }
   ],
   "source": [
    "eighties=dow_and_gold.iloc[32:42]\n",
    "eighties.head()"
   ]
  },
  {
   "cell_type": "code",
   "execution_count": 107,
   "id": "28b7b50d",
   "metadata": {},
   "outputs": [
    {
     "data": {
      "text/html": [
       "<div>\n",
       "<style scoped>\n",
       "    .dataframe tbody tr th:only-of-type {\n",
       "        vertical-align: middle;\n",
       "    }\n",
       "\n",
       "    .dataframe tbody tr th {\n",
       "        vertical-align: top;\n",
       "    }\n",
       "\n",
       "    .dataframe thead th {\n",
       "        text-align: right;\n",
       "    }\n",
       "</style>\n",
       "<table border=\"1\" class=\"dataframe\">\n",
       "  <thead>\n",
       "    <tr style=\"text-align: right;\">\n",
       "      <th></th>\n",
       "      <th>Year</th>\n",
       "      <th>AverageClosing Price_dow</th>\n",
       "      <th>AverageClosing Price_gold</th>\n",
       "      <th>amount</th>\n",
       "      <th>2021_dow</th>\n",
       "      <th>2021_gold</th>\n",
       "    </tr>\n",
       "  </thead>\n",
       "  <tbody>\n",
       "    <tr>\n",
       "      <th>42</th>\n",
       "      <td>1979</td>\n",
       "      <td>844.38</td>\n",
       "      <td>307.01</td>\n",
       "      <td>5.76</td>\n",
       "      <td>3131.242500</td>\n",
       "      <td>1138.495417</td>\n",
       "    </tr>\n",
       "    <tr>\n",
       "      <th>43</th>\n",
       "      <td>1978</td>\n",
       "      <td>821.13</td>\n",
       "      <td>193.57</td>\n",
       "      <td>5.17</td>\n",
       "      <td>3392.521625</td>\n",
       "      <td>799.739884</td>\n",
       "    </tr>\n",
       "    <tr>\n",
       "      <th>44</th>\n",
       "      <td>1977</td>\n",
       "      <td>894.37</td>\n",
       "      <td>147.84</td>\n",
       "      <td>4.81</td>\n",
       "      <td>3971.672183</td>\n",
       "      <td>656.520249</td>\n",
       "    </tr>\n",
       "    <tr>\n",
       "      <th>45</th>\n",
       "      <td>1976</td>\n",
       "      <td>975.20</td>\n",
       "      <td>124.80</td>\n",
       "      <td>4.52</td>\n",
       "      <td>4608.467257</td>\n",
       "      <td>589.762832</td>\n",
       "    </tr>\n",
       "    <tr>\n",
       "      <th>46</th>\n",
       "      <td>1975</td>\n",
       "      <td>802.89</td>\n",
       "      <td>160.87</td>\n",
       "      <td>4.27</td>\n",
       "      <td>4016.330304</td>\n",
       "      <td>804.726745</td>\n",
       "    </tr>\n",
       "  </tbody>\n",
       "</table>\n",
       "</div>"
      ],
      "text/plain": [
       "    Year  AverageClosing Price_dow  AverageClosing Price_gold  amount  \\\n",
       "42  1979                    844.38                     307.01    5.76   \n",
       "43  1978                    821.13                     193.57    5.17   \n",
       "44  1977                    894.37                     147.84    4.81   \n",
       "45  1976                    975.20                     124.80    4.52   \n",
       "46  1975                    802.89                     160.87    4.27   \n",
       "\n",
       "       2021_dow    2021_gold  \n",
       "42  3131.242500  1138.495417  \n",
       "43  3392.521625   799.739884  \n",
       "44  3971.672183   656.520249  \n",
       "45  4608.467257   589.762832  \n",
       "46  4016.330304   804.726745  "
      ]
     },
     "execution_count": 107,
     "metadata": {},
     "output_type": "execute_result"
    }
   ],
   "source": [
    "seventies=dow_and_gold.iloc[42:52]\n",
    "seventies.head()"
   ]
  },
  {
   "cell_type": "code",
   "execution_count": 129,
   "id": "e1cb3d6d",
   "metadata": {},
   "outputs": [
    {
     "data": {
      "text/plain": [
       "<seaborn.axisgrid.FacetGrid at 0x243af57cd60>"
      ]
     },
     "execution_count": 129,
     "metadata": {},
     "output_type": "execute_result"
    },
    {
     "data": {
      "image/png": "[encoded data removed]",
      "text/plain": [
       "<Figure size 360x360 with 1 Axes>"
      ]
     },
     "metadata": {},
     "output_type": "display_data"
    }
   ],
   "source": [
    "# To begin to get an understanding of the data by decade, I set up a scatterplot of the \"2021_dow\" and \"2021_gold\" columns for\n",
    "# the 1990's, which appears to show a strong negative correlation between the two variables.\n",
    "\n",
    "sns.relplot(x=\"2021_dow\", y=\"2021_gold\", \n",
    "                data=nineties, kind='scatter').set(title='Relationship Between the Dow Jones and Gold Prices, 90s')"
   ]
  },
  {
   "cell_type": "code",
   "execution_count": 115,
   "id": "016ebdb4",
   "metadata": {},
   "outputs": [
    {
     "data": {
      "text/plain": [
       "Text(0.5, 1.0, '80s Gold Prices Compared to the Dow Jones Industrial Average in 2021 USD')"
      ]
     },
     "execution_count": 115,
     "metadata": {},
     "output_type": "execute_result"
    },
    {
     "data": {
      "image/png": "[encoded data removed]",
      "text/plain": [
       "<Figure size 432x288 with 2 Axes>"
      ]
     },
     "metadata": {},
     "output_type": "display_data"
    }
   ],
   "source": [
    "# Next I made a line plot out of the 1980's data, which seemed somewhat distinct on the previous line graph. The correlation\n",
    "# here and in the scatterplot that follows is less clear than the 1990's data.\n",
    "\n",
    "fig, ax = plt.subplots()\n",
    "ax.plot(eighties['Year'], eighties['2021_dow'], color='b', label='Dow Jones Stock Index')\n",
    "ax2 = ax.twinx()\n",
    "ax2.plot(eighties['Year'], eighties['2021_gold'], color='r', label='Gold Prices')\n",
    "ax.set_ylabel('Dow Jones Industrial AVG', color='b')\n",
    "ax2.set_ylabel('Price of Gold per Ounce', color='r')\n",
    "ax.set_xlabel('Year')\n",
    "plt.style.use('ggplot')\n",
    "plt.title('80s Gold Prices Compared to the Dow Jones Industrial Average in 2021 USD')"
   ]
  },
  {
   "cell_type": "code",
   "execution_count": 121,
   "id": "decd1d12",
   "metadata": {},
   "outputs": [
    {
     "data": {
      "text/plain": [
       "<seaborn.axisgrid.FacetGrid at 0x243af4c2760>"
      ]
     },
     "execution_count": 121,
     "metadata": {},
     "output_type": "execute_result"
    },
    {
     "data": {
      "image/png": "[encoded data removed]",
      "text/plain": [
       "<Figure size 360x360 with 1 Axes>"
      ]
     },
     "metadata": {},
     "output_type": "display_data"
    }
   ],
   "source": [
    "sns.relplot(x=\"2021_dow\", y=\"2021_gold\", \n",
    "                data=eighties, kind='scatter').set(title='Relationship Between the Dow Jones and Gold Prices, 80s')"
   ]
  },
  {
   "cell_type": "code",
   "execution_count": 117,
   "id": "6c6f30e9",
   "metadata": {},
   "outputs": [
    {
     "data": {
      "text/plain": [
       "Text(0.5, 1.0, '70s Gold Prices Compared to the Dow Jones Industrial Average in 2021 USD')"
      ]
     },
     "execution_count": 117,
     "metadata": {},
     "output_type": "execute_result"
    },
    {
     "data": {
      "image/png": "[encoded data removed]",
      "text/plain": [
       "<Figure size 432x288 with 2 Axes>"
      ]
     },
     "metadata": {},
     "output_type": "display_data"
    }
   ],
   "source": [
    "# The line chart for the 1970's strongly suggests a negative correlation between the two variables, though the scatterplot\n",
    "# indicates that it may be weaker than the 1990's.\n",
    "\n",
    "fig, ax = plt.subplots()\n",
    "ax.plot(seventies['Year'], seventies['2021_dow'], color='b', label='Dow Jones Stock Index')\n",
    "ax2 = ax.twinx()\n",
    "ax2.plot(seventies['Year'], seventies['2021_gold'], color='r', label='Gold Prices')\n",
    "ax.set_ylabel('Dow Jones Industrial AVG', color='b')\n",
    "ax2.set_ylabel('Price of Gold per Ounce', color='r')\n",
    "ax.set_xlabel('Year')\n",
    "plt.style.use('ggplot')\n",
    "plt.title('70s Gold Prices Compared to the Dow Jones Industrial Average in 2021 USD')"
   ]
  },
  {
   "cell_type": "code",
   "execution_count": 119,
   "id": "0f9d8b71",
   "metadata": {
    "scrolled": false
   },
   "outputs": [
    {
     "data": {
      "text/plain": [
       "<seaborn.axisgrid.FacetGrid at 0x243af40ffa0>"
      ]
     },
     "execution_count": 119,
     "metadata": {},
     "output_type": "execute_result"
    },
    {
     "data": {
      "image/png": "[encoded data removed]",
      "text/plain": [
       "<Figure size 360x360 with 1 Axes>"
      ]
     },
     "metadata": {},
     "output_type": "display_data"
    }
   ],
   "source": [
    "sns.relplot(x=\"2021_dow\", y=\"2021_gold\", \n",
    "                data=seventies, kind='scatter').set(title='Relationship Between the Dow Jones and Gold Prices, 70s')"
   ]
  },
  {
   "cell_type": "code",
   "execution_count": 126,
   "id": "68b7dc84",
   "metadata": {},
   "outputs": [
    {
     "name": "stdout",
     "output_type": "stream",
     "text": [
      "-0.9495233857706128 -0.41716212622037496 -0.8651814577399296\n"
     ]
    }
   ],
   "source": [
    "# To get a more accurate picture of the degree of correlation between the Dow Jones average annual price and the average \n",
    "# annual price of gold, I conducted a Pearson’s correlation coefficient test for each decade. This yielded strong negative\n",
    "# correlations for the 1990's and 1970's, though only a moderate negative correlation for the 1980's.\n",
    "\n",
    "corr90, _ = pearsonr(nineties['2021_dow'], nineties['2021_gold'])\n",
    "corr80, _ = pearsonr(eighties['2021_dow'], eighties['2021_gold'])\n",
    "corr70, _ = pearsonr(seventies['2021_dow'], seventies['2021_gold'])\n",
    "print(corr90, corr80, corr70)"
   ]
  },
  {
   "cell_type": "code",
   "execution_count": 127,
   "id": "af6621c1",
   "metadata": {},
   "outputs": [
    {
     "name": "stdout",
     "output_type": "stream",
     "text": [
      "Ttest_relResult(statistic=6.643115528281589, pvalue=9.448045416383029e-05) Ttest_relResult(statistic=6.451190079950108, pvalue=0.00011797737526280001) Ttest_relResult(statistic=9.663884140675965, pvalue=4.752684284246929e-06)\n"
     ]
    }
   ],
   "source": [
    "# To check the statistical significance of my findings, I performed a two tail T test for the 1990's, 80's, and 70's data.\n",
    "# All were statistically significant, with P-Values well under .05.\n",
    "\n",
    "from scipy import stats\n",
    "ttest1 = stats.ttest_rel(nineties['2021_dow'], nineties['2021_gold'])\n",
    "ttest2 = stats.ttest_rel(eighties['2021_dow'], eighties['2021_gold'])\n",
    "ttest3 = stats.ttest_rel(seventies['2021_dow'], seventies['2021_gold'])\n",
    "print(ttest1, ttest2, ttest3)"
   ]
  },
  {
   "cell_type": "code",
   "execution_count": 128,
   "id": "2306c42a",
   "metadata": {},
   "outputs": [
    {
     "name": "stdout",
     "output_type": "stream",
     "text": [
      "0.47662405032996713 Ttest_relResult(statistic=14.34413230921181, pvalue=2.5399793845450446e-12)\n"
     ]
    }
   ],
   "source": [
    "# Finally, I analyzed the data from the 21st century, which had a moderate positive correlation that was statistically \n",
    "# significant. This is what likely led to the unexpected positive correlation when the whole dataset was analyzed earlier.\n",
    "\n",
    "corr20, _ = pearsonr(twenty_first['2021_dow'], twenty_first['2021_gold'])\n",
    "ttest4 = stats.ttest_rel(twenty_first['2021_dow'], twenty_first['2021_gold'])\n",
    "print(corr20, ttest4)"
   ]
  },
  {
   "cell_type": "code",
   "execution_count": null,
   "id": "560374cf",
   "metadata": {},
   "outputs": [],
   "source": [
    "# Conclusion- The data suggests there is a historic negative correlation between gold prices and the price of the Dow Jones \n",
    "# stock index, which is in-line with the general understanding that gold prices increase during economic recessions, as it\n",
    "# is seen as a safe asset. However, that relationship appears to have broken down since the year 2000. There are many possible\n",
    "# reasons for this, such as the increasing use of gold to manufacture microchips, a rapidly growing economic sector over the\n",
    "# past 20 years. However, confirming the cause will require additional data on what gold is being used for. Based on the data\n",
    "# I have analyzed, all that is apparent is that the traditional negative relationship between stock prices and gold prices\n",
    "# appears to have eroded, with the latter now behaving more like many other traditional industrial pre-cursors and having a\n",
    "# positive correlation with stock prices."
   ]
  }
 ],
 "metadata": {
  "kernelspec": {
   "display_name": "Python 3",
   "language": "python",
   "name": "python3"
  },
  "language_info": {
   "codemirror_mode": {
    "name": "ipython",
    "version": 3
   },
   "file_extension": ".py",
   "mimetype": "text/x-python",
   "name": "python",
   "nbconvert_exporter": "python",
   "pygments_lexer": "ipython3",
   "version": "3.8.8"
  }
 },
 "nbformat": 4,
 "nbformat_minor": 5
}
